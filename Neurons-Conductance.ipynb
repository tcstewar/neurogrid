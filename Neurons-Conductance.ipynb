{
 "metadata": {
  "name": ""
 },
 "nbformat": 3,
 "nbformat_minor": 0,
 "worksheets": [
  {
   "cells": [
    {
     "cell_type": "code",
     "collapsed": false,
     "input": [
      "import neurogrid as ng\n",
      "import numpy as np\n",
      "\n",
      "N = 6\n",
      "f_max = 1000\n",
      "pts = 10\n",
      "\n",
      "rng = np.random.RandomState()\n",
      "n = ng.conductance_neurons.ConductanceNeuron(N, rng)\n",
      "\n",
      "# create input space\n",
      "e_in = np.linspace(0, f_max, pts)\n",
      "i_in = np.linspace(0, f_max, pts)\n",
      "\n",
      "r = np.zeros((N, pts, pts))\n",
      "T = 1.0\n",
      "\n",
      "def make_spike_train(T, rate):\n",
      "    times = []\n",
      "    if rate<=0: return times\n",
      "    t = 0.0\n",
      "    while t<T:\n",
      "        interval = rng.exponential(1.0/rate)\n",
      "        t += interval\n",
      "        if t<T:\n",
      "            times.append(t)\n",
      "    return times\n",
      "\n",
      "\n",
      "\n",
      "def compute_rate(n, rate_e, rate_i, T=1.0):\n",
      "    spike_times_e = make_spike_train(T, rate_e)    \n",
      "    spike_times_i = make_spike_train(T, rate_i)\n",
      "    \n",
      "    N = len(n.voltage)\n",
      "    \n",
      "    dt = 0.001\n",
      "    pstc = 0.01\n",
      "    \n",
      "    fs_e = np.zeros(N, dtype='f')\n",
      "    fs_i = np.zeros(N, dtype='f')\n",
      "    \n",
      "    decay = np.exp(-dt/pstc)\n",
      "    \n",
      "    total = None\n",
      "    \n",
      "    t = 0\n",
      "    \n",
      "    spike_index_e = 0\n",
      "    spike_index_i = 0\n",
      "    while t<T:\n",
      "        \n",
      "        spikes_e = []\n",
      "        while spike_index_e<len(spike_times_e) and t+dt>spike_times_e[spike_index_e]:\n",
      "            spikes_e.append(spike_times_e[spike_index_e]-t)\n",
      "            spike_index_e += 1\n",
      "        spikes_i = []\n",
      "        while spike_index_i<len(spike_times_i) and t+dt>spike_times_i[spike_index_i]:\n",
      "            spikes_i.append(spike_times_i[spike_index_i]-t)\n",
      "            spike_index_i += 1\n",
      "            \n",
      "        if len(spikes_e)>0:\n",
      "            s_e = np.ones(N)\n",
      "        else:    \n",
      "            s_e = np.zeros(N)\n",
      "        if len(spikes_i)>0:\n",
      "            s_i = np.ones(N)\n",
      "        else:    \n",
      "            s_i = np.zeros(N)\n",
      "           \n",
      "        scale = 0.023/0.3885*30   \n",
      "        \n",
      "        fs_e = fs_e * decay + s_e * (1-decay)\n",
      "        fs_i = fs_i * decay + s_i * (1-decay)\n",
      "        \n",
      "        s = n.tick(fs_e*scale, fs_i*scale, dt)\n",
      "            \n",
      "        t += dt\n",
      "        \n",
      "        \n",
      "        if total is None: total = s\n",
      "        else: total += s\n",
      "    \n",
      "    return total/T\n",
      "\n",
      "for i,rate_e in enumerate(e_in):\n",
      "    for j,rate_i in enumerate(i_in):\n",
      "        print rate_e, rate_i\n",
      "        \n",
      "        r[:,i,j]=compute_rate(n, rate_e, rate_i)\n",
      "\n",
      "\n",
      "import matplotlib.pyplot as plt\n",
      "\n",
      "for i in range(N):\n",
      "    plt.subplot(2, N/2, i+1)\n",
      "    data = r[i,:]\n",
      "    data.shape = pts, pts\n",
      "    plt.imshow(data, interpolation='none', origin='lower', extent=(0,f_max,0,f_max))\n",
      "    "
     ],
     "language": "python",
     "metadata": {},
     "outputs": [
      {
       "output_type": "stream",
       "stream": "stdout",
       "text": [
        "0.0 0.0\n",
        "0.0"
       ]
      },
      {
       "output_type": "stream",
       "stream": "stdout",
       "text": [
        " 111.111111111\n",
        "0.0"
       ]
      },
      {
       "output_type": "stream",
       "stream": "stdout",
       "text": [
        " 222.222222222\n",
        "0.0"
       ]
      },
      {
       "output_type": "stream",
       "stream": "stdout",
       "text": [
        " 333.333333333\n",
        "0.0"
       ]
      },
      {
       "output_type": "stream",
       "stream": "stdout",
       "text": [
        " 444.444444444\n",
        "0.0"
       ]
      },
      {
       "output_type": "stream",
       "stream": "stdout",
       "text": [
        " 555.555555556\n",
        "0.0"
       ]
      },
      {
       "output_type": "stream",
       "stream": "stdout",
       "text": [
        " 666.666666667\n",
        "0.0"
       ]
      },
      {
       "output_type": "stream",
       "stream": "stdout",
       "text": [
        " 777.777777778\n",
        "0.0"
       ]
      },
      {
       "output_type": "stream",
       "stream": "stdout",
       "text": [
        " 888.888888889\n",
        "0.0"
       ]
      },
      {
       "output_type": "stream",
       "stream": "stdout",
       "text": [
        " 1000.0\n",
        "111.111111111"
       ]
      },
      {
       "output_type": "stream",
       "stream": "stdout",
       "text": [
        " 0.0\n",
        "111.111111111"
       ]
      },
      {
       "output_type": "stream",
       "stream": "stdout",
       "text": [
        " 111.111111111\n",
        "111.111111111"
       ]
      },
      {
       "output_type": "stream",
       "stream": "stdout",
       "text": [
        " 222.222222222\n",
        "111.111111111"
       ]
      },
      {
       "output_type": "stream",
       "stream": "stdout",
       "text": [
        " 333.333333333\n",
        "111.111111111"
       ]
      },
      {
       "output_type": "stream",
       "stream": "stdout",
       "text": [
        " 444.444444444\n",
        "111.111111111"
       ]
      },
      {
       "output_type": "stream",
       "stream": "stdout",
       "text": [
        " 555.555555556\n",
        "111.111111111"
       ]
      },
      {
       "output_type": "stream",
       "stream": "stdout",
       "text": [
        " 666.666666667\n",
        "111.111111111"
       ]
      },
      {
       "output_type": "stream",
       "stream": "stdout",
       "text": [
        " 777.777777778\n",
        "111.111111111"
       ]
      },
      {
       "output_type": "stream",
       "stream": "stdout",
       "text": [
        " 888.888888889\n",
        "111.111111111"
       ]
      },
      {
       "output_type": "stream",
       "stream": "stdout",
       "text": [
        " 1000.0\n",
        "222.222222222"
       ]
      },
      {
       "output_type": "stream",
       "stream": "stdout",
       "text": [
        " 0.0\n",
        "222.222222222"
       ]
      },
      {
       "output_type": "stream",
       "stream": "stdout",
       "text": [
        " 111.111111111\n",
        "222.222222222"
       ]
      },
      {
       "output_type": "stream",
       "stream": "stdout",
       "text": [
        " 222.222222222\n",
        "222.222222222"
       ]
      },
      {
       "output_type": "stream",
       "stream": "stdout",
       "text": [
        " 333.333333333\n",
        "222.222222222"
       ]
      },
      {
       "output_type": "stream",
       "stream": "stdout",
       "text": [
        " 444.444444444\n",
        "222.222222222"
       ]
      },
      {
       "output_type": "stream",
       "stream": "stdout",
       "text": [
        " 555.555555556\n",
        "222.222222222"
       ]
      },
      {
       "output_type": "stream",
       "stream": "stdout",
       "text": [
        " 666.666666667\n",
        "222.222222222"
       ]
      },
      {
       "output_type": "stream",
       "stream": "stdout",
       "text": [
        " 777.777777778\n",
        "222.222222222"
       ]
      },
      {
       "output_type": "stream",
       "stream": "stdout",
       "text": [
        " 888.888888889\n",
        "222.222222222"
       ]
      },
      {
       "output_type": "stream",
       "stream": "stdout",
       "text": [
        " 1000.0\n",
        "333.333333333"
       ]
      },
      {
       "output_type": "stream",
       "stream": "stdout",
       "text": [
        " 0.0\n",
        "333.333333333"
       ]
      },
      {
       "output_type": "stream",
       "stream": "stdout",
       "text": [
        " 111.111111111\n",
        "333.333333333"
       ]
      },
      {
       "output_type": "stream",
       "stream": "stdout",
       "text": [
        " 222.222222222\n",
        "333.333333333"
       ]
      },
      {
       "output_type": "stream",
       "stream": "stdout",
       "text": [
        " 333.333333333\n",
        "333.333333333"
       ]
      },
      {
       "output_type": "stream",
       "stream": "stdout",
       "text": [
        " 444.444444444\n",
        "333.333333333"
       ]
      },
      {
       "output_type": "stream",
       "stream": "stdout",
       "text": [
        " 555.555555556\n",
        "333.333333333"
       ]
      },
      {
       "output_type": "stream",
       "stream": "stdout",
       "text": [
        " 666.666666667\n",
        "333.333333333"
       ]
      },
      {
       "output_type": "stream",
       "stream": "stdout",
       "text": [
        " 777.777777778\n",
        "333.333333333"
       ]
      },
      {
       "output_type": "stream",
       "stream": "stdout",
       "text": [
        " 888.888888889\n",
        "333.333333333"
       ]
      },
      {
       "output_type": "stream",
       "stream": "stdout",
       "text": [
        " 1000.0\n",
        "444.444444444"
       ]
      },
      {
       "output_type": "stream",
       "stream": "stdout",
       "text": [
        " 0.0\n",
        "444.444444444"
       ]
      },
      {
       "output_type": "stream",
       "stream": "stdout",
       "text": [
        " 111.111111111\n",
        "444.444444444"
       ]
      },
      {
       "output_type": "stream",
       "stream": "stdout",
       "text": [
        " 222.222222222\n",
        "444.444444444"
       ]
      },
      {
       "output_type": "stream",
       "stream": "stdout",
       "text": [
        " 333.333333333\n",
        "444.444444444"
       ]
      },
      {
       "output_type": "stream",
       "stream": "stdout",
       "text": [
        " 444.444444444\n",
        "444.444444444"
       ]
      },
      {
       "output_type": "stream",
       "stream": "stdout",
       "text": [
        " 555.555555556\n",
        "444.444444444"
       ]
      },
      {
       "output_type": "stream",
       "stream": "stdout",
       "text": [
        " 666.666666667\n",
        "444.444444444"
       ]
      },
      {
       "output_type": "stream",
       "stream": "stdout",
       "text": [
        " 777.777777778\n",
        "444.444444444"
       ]
      },
      {
       "output_type": "stream",
       "stream": "stdout",
       "text": [
        " 888.888888889\n",
        "444.444444444"
       ]
      },
      {
       "output_type": "stream",
       "stream": "stdout",
       "text": [
        " 1000.0\n",
        "555.555555556"
       ]
      },
      {
       "output_type": "stream",
       "stream": "stdout",
       "text": [
        " 0.0\n",
        "555.555555556"
       ]
      },
      {
       "output_type": "stream",
       "stream": "stdout",
       "text": [
        " 111.111111111\n",
        "555.555555556"
       ]
      },
      {
       "output_type": "stream",
       "stream": "stdout",
       "text": [
        " 222.222222222\n",
        "555.555555556"
       ]
      },
      {
       "output_type": "stream",
       "stream": "stdout",
       "text": [
        " 333.333333333\n",
        "555.555555556"
       ]
      },
      {
       "output_type": "stream",
       "stream": "stdout",
       "text": [
        " 444.444444444\n",
        "555.555555556"
       ]
      },
      {
       "output_type": "stream",
       "stream": "stdout",
       "text": [
        " 555.555555556\n",
        "555.555555556"
       ]
      },
      {
       "output_type": "stream",
       "stream": "stdout",
       "text": [
        " 666.666666667\n",
        "555.555555556"
       ]
      },
      {
       "output_type": "stream",
       "stream": "stdout",
       "text": [
        " 777.777777778\n",
        "555.555555556"
       ]
      },
      {
       "output_type": "stream",
       "stream": "stdout",
       "text": [
        " 888.888888889\n",
        "555.555555556"
       ]
      },
      {
       "output_type": "stream",
       "stream": "stdout",
       "text": [
        " 1000.0\n",
        "666.666666667"
       ]
      },
      {
       "output_type": "stream",
       "stream": "stdout",
       "text": [
        " 0.0\n",
        "666.666666667"
       ]
      },
      {
       "output_type": "stream",
       "stream": "stdout",
       "text": [
        " 111.111111111\n",
        "666.666666667"
       ]
      },
      {
       "output_type": "stream",
       "stream": "stdout",
       "text": [
        " 222.222222222\n",
        "666.666666667"
       ]
      },
      {
       "output_type": "stream",
       "stream": "stdout",
       "text": [
        " 333.333333333\n",
        "666.666666667"
       ]
      },
      {
       "output_type": "stream",
       "stream": "stdout",
       "text": [
        " 444.444444444\n",
        "666.666666667"
       ]
      },
      {
       "output_type": "stream",
       "stream": "stdout",
       "text": [
        " 555.555555556\n",
        "666.666666667"
       ]
      },
      {
       "output_type": "stream",
       "stream": "stdout",
       "text": [
        " 666.666666667\n",
        "666.666666667"
       ]
      },
      {
       "output_type": "stream",
       "stream": "stdout",
       "text": [
        " 777.777777778\n",
        "666.666666667"
       ]
      },
      {
       "output_type": "stream",
       "stream": "stdout",
       "text": [
        " 888.888888889\n",
        "666.666666667"
       ]
      },
      {
       "output_type": "stream",
       "stream": "stdout",
       "text": [
        " 1000.0\n",
        "777.777777778"
       ]
      },
      {
       "output_type": "stream",
       "stream": "stdout",
       "text": [
        " 0.0\n",
        "777.777777778"
       ]
      },
      {
       "output_type": "stream",
       "stream": "stdout",
       "text": [
        " 111.111111111\n",
        "777.777777778"
       ]
      },
      {
       "output_type": "stream",
       "stream": "stdout",
       "text": [
        " 222.222222222\n",
        "777.777777778"
       ]
      },
      {
       "output_type": "stream",
       "stream": "stdout",
       "text": [
        " 333.333333333\n",
        "777.777777778"
       ]
      },
      {
       "output_type": "stream",
       "stream": "stdout",
       "text": [
        " 444.444444444\n",
        "777.777777778"
       ]
      },
      {
       "output_type": "stream",
       "stream": "stdout",
       "text": [
        " 555.555555556\n",
        "777.777777778"
       ]
      },
      {
       "output_type": "stream",
       "stream": "stdout",
       "text": [
        " 666.666666667\n",
        "777.777777778"
       ]
      },
      {
       "output_type": "stream",
       "stream": "stdout",
       "text": [
        " 777.777777778\n",
        "777.777777778"
       ]
      },
      {
       "output_type": "stream",
       "stream": "stdout",
       "text": [
        " 888.888888889\n",
        "777.777777778"
       ]
      },
      {
       "output_type": "stream",
       "stream": "stdout",
       "text": [
        " 1000.0\n",
        "888.888888889"
       ]
      },
      {
       "output_type": "stream",
       "stream": "stdout",
       "text": [
        " 0.0\n",
        "888.888888889"
       ]
      },
      {
       "output_type": "stream",
       "stream": "stdout",
       "text": [
        " 111.111111111\n",
        "888.888888889"
       ]
      },
      {
       "output_type": "stream",
       "stream": "stdout",
       "text": [
        " 222.222222222\n",
        "888.888888889"
       ]
      },
      {
       "output_type": "stream",
       "stream": "stdout",
       "text": [
        " 333.333333333\n",
        "888.888888889"
       ]
      },
      {
       "output_type": "stream",
       "stream": "stdout",
       "text": [
        " 444.444444444\n",
        "888.888888889"
       ]
      },
      {
       "output_type": "stream",
       "stream": "stdout",
       "text": [
        " 555.555555556\n",
        "888.888888889"
       ]
      },
      {
       "output_type": "stream",
       "stream": "stdout",
       "text": [
        " 666.666666667\n",
        "888.888888889"
       ]
      },
      {
       "output_type": "stream",
       "stream": "stdout",
       "text": [
        " 777.777777778\n",
        "888.888888889"
       ]
      },
      {
       "output_type": "stream",
       "stream": "stdout",
       "text": [
        " 888.888888889\n",
        "888.888888889"
       ]
      },
      {
       "output_type": "stream",
       "stream": "stdout",
       "text": [
        " 1000.0\n",
        "1000.0"
       ]
      },
      {
       "output_type": "stream",
       "stream": "stdout",
       "text": [
        " 0.0\n",
        "1000.0"
       ]
      },
      {
       "output_type": "stream",
       "stream": "stdout",
       "text": [
        " 111.111111111\n",
        "1000.0"
       ]
      },
      {
       "output_type": "stream",
       "stream": "stdout",
       "text": [
        " 222.222222222\n",
        "1000.0"
       ]
      },
      {
       "output_type": "stream",
       "stream": "stdout",
       "text": [
        " 333.333333333\n",
        "1000.0"
       ]
      },
      {
       "output_type": "stream",
       "stream": "stdout",
       "text": [
        " 444.444444444\n",
        "1000.0"
       ]
      },
      {
       "output_type": "stream",
       "stream": "stdout",
       "text": [
        " 555.555555556\n",
        "1000.0"
       ]
      },
      {
       "output_type": "stream",
       "stream": "stdout",
       "text": [
        " 666.666666667\n",
        "1000.0"
       ]
      },
      {
       "output_type": "stream",
       "stream": "stdout",
       "text": [
        " 777.777777778\n",
        "1000.0"
       ]
      },
      {
       "output_type": "stream",
       "stream": "stdout",
       "text": [
        " 888.888888889\n",
        "1000.0"
       ]
      }
     ],
     "prompt_number": "*"
    },
    {
     "cell_type": "code",
     "collapsed": false,
     "input": [
      "print r\n"
     ],
     "language": "python",
     "metadata": {},
     "outputs": [
      {
       "output_type": "stream",
       "stream": "stdout",
       "text": [
        "[[[  1.   0.   0.   0.   0.   0.   0.   0.   0.   0.]\n",
        "  [  5.   4.   2.   1.   0.   0.   0.   0.   0.   0.]\n",
        "  [  7.   6.   3.   3.   2.   1.   0.   0.   0.   0.]\n",
        "  [  8.   8.   6.   5.   3.   2.   0.   1.   0.   0.]\n",
        "  [ 10.   8.   8.   7.   5.   4.   2.   0.   0.   0.]\n",
        "  [ 11.   9.   9.   7.   6.   5.   5.   3.   2.   1.]\n",
        "  [ 12.  10.  10.   8.   8.   6.   5.   5.   3.   2.]\n",
        "  [ 12.  12.   9.  10.   7.   8.   6.   5.   5.   3.]\n",
        "  [ 13.  11.  11.   9.   9.   8.   6.   6.   5.   5.]\n",
        "  [ 13.  12.  12.  10.   9.   9.   6.   7.   6.   4.]]\n",
        "\n",
        " [[  0.   0.   0.   0.   0.   0.   0.   0.   0.   0.]\n",
        "  [  5.   4.   4.   2.   2.   0.   0.   0.   0.   0.]\n",
        "  [  7.   7.   5.   6.   4.   4.   2.   1.   1.   0.]\n",
        "  [ 10.   9.   7.   6.   6.   5.   5.   4.   4.   2.]\n",
        "  [ 11.  10.   9.   9.   8.   8.   6.   6.   6.   5.]\n",
        "  [ 12.  11.  11.   9.   9.   8.   8.   7.   7.   7.]\n",
        "  [ 12.  13.  11.  11.  10.   9.   9.   8.   8.   7.]\n",
        "  [ 14.  13.  12.  12.  11.  10.  10.   9.   9.   9.]\n",
        "  [ 14.  14.  12.  12.  11.  11.  10.  10.  10.   8.]\n",
        "  [ 15.  15.  13.  13.  12.  12.  11.  10.  10.   9.]]\n",
        "\n",
        " [[  1.   0.   0.   0.   0.   0.   0.   0.   0.   0.]\n",
        "  [  5.   3.   2.   1.   0.   0.   0.   0.   0.   0.]\n",
        "  [  7.   5.   5.   4.   2.   1.   0.   0.   0.   0.]\n",
        "  [  8.   8.   6.   6.   3.   3.   2.   1.   0.   0.]\n",
        "  [ 10.   8.   8.   7.   6.   5.   4.   3.   2.   1.]\n",
        "  [ 11.   9.   9.   8.   7.   5.   6.   5.   3.   3.]\n",
        "  [ 12.  10.  10.   8.   8.   8.   6.   5.   5.   4.]\n",
        "  [ 12.  11.   9.  10.   8.   8.   7.   6.   6.   5.]\n",
        "  [ 13.  11.  11.  10.   9.   8.   8.   6.   7.   6.]\n",
        "  [ 13.  12.  12.  10.  10.  10.   8.   7.   7.   6.]]\n",
        "\n",
        " [[  0.   0.   0.   0.   0.   0.   0.   0.   0.   0.]\n",
        "  [  3.   2.   0.   0.   0.   0.   0.   0.   0.   0.]\n",
        "  [  5.   3.   2.   1.   0.   0.   0.   0.   0.   0.]\n",
        "  [  6.   6.   3.   2.   0.   0.   0.   0.   0.   0.]\n",
        "  [  7.   6.   5.   5.   2.   1.   0.   0.   0.   0.]\n",
        "  [  8.   7.   6.   4.   4.   2.   1.   0.   0.   0.]\n",
        "  [  9.   7.   7.   5.   5.   3.   2.   0.   0.   0.]\n",
        "  [  9.   9.   7.   6.   5.   5.   2.   1.   0.   0.]\n",
        "  [ 10.   8.   8.   6.   6.   4.   3.   3.   2.   0.]\n",
        "  [ 10.  10.   8.   8.   6.   6.   4.   3.   2.   0.]]\n",
        "\n",
        " [[  2.   0.   0.   0.   0.   0.   0.   0.   0.   0.]\n",
        "  [  4.   4.   2.   0.   0.   0.   0.   0.   0.   0.]\n",
        "  [  6.   5.   3.   3.   2.   1.   0.   0.   0.   0.]\n",
        "  [  7.   7.   5.   4.   2.   3.   0.   0.   0.   0.]\n",
        "  [  8.   7.   7.   5.   5.   4.   1.   1.   0.   0.]\n",
        "  [  9.   8.   7.   6.   5.   4.   4.   3.   1.   0.]\n",
        "  [ 10.   8.   8.   7.   6.   5.   4.   4.   2.   2.]\n",
        "  [ 10.  10.   8.   7.   6.   7.   4.   5.   3.   3.]\n",
        "  [ 11.   9.   9.   7.   7.   7.   5.   5.   4.   3.]\n",
        "  [ 11.  11.   9.   8.   8.   7.   6.   5.   5.   3.]]\n",
        "\n",
        " [[  0.   0.   0.   0.   0.   0.   0.   0.   0.   0.]\n",
        "  [  2.   0.   0.   0.   0.   0.   0.   0.   0.   0.]\n",
        "  [  4.   4.   2.   1.   0.   0.   0.   0.   0.   0.]\n",
        "  [  6.   6.   3.   2.   1.   0.   0.   0.   0.   0.]\n",
        "  [  7.   7.   5.   5.   4.   3.   0.   0.   0.   0.]\n",
        "  [  9.   7.   6.   6.   5.   3.   3.   1.   1.   0.]\n",
        "  [  9.   8.   7.   7.   6.   5.   3.   3.   1.   2.]\n",
        "  [ 10.   9.   8.   7.   6.   6.   5.   3.   4.   3.]\n",
        "  [ 10.  10.   8.   7.   7.   6.   6.   4.   4.   3.]\n",
        "  [ 11.  11.   9.   8.   7.   8.   5.   6.   4.   4.]]]\n"
       ]
      }
     ],
     "prompt_number": 12
    }
   ],
   "metadata": {}
  }
 ]
}