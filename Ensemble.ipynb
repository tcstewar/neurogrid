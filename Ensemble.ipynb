{
 "metadata": {
  "name": "Ensemble"
 }, 
 "nbformat": 2, 
 "worksheets": [
  {
   "cells": [
    {
     "cell_type": "code", 
     "collapsed": true, 
     "input": [
      "import neurogrid as ng", 
      "reload(ng.ensemble)", 
      "", 
      "e = ng.ensemble.Ensemble(16, 16, 1, seed=1)"
     ], 
     "language": "python", 
     "outputs": [], 
     "prompt_number": 5
    }, 
    {
     "cell_type": "code", 
     "collapsed": true, 
     "input": [
      "import neurogrid as ng", 
      "reload(ng.ensemble)", 
      "", 
      "N = 64", 
      "", 
      "e = ng.ensemble.Ensemble(N, N, 2, seed=1, encoder_type='kohonen')", 
      "", 
      "ng.plot.encoder_2d(e.encoders)", 
      "ng.plot.encoder_flat(e.encoders, N, N)"
     ], 
     "language": "python", 
     "outputs": [], 
     "prompt_number": 3
    }
   ]
  }
 ]
}