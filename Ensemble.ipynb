{
 "metadata": {
  "name": "Ensemble"
 }, 
 "nbformat": 2, 
 "worksheets": [
  {
   "cells": [
    {
     "cell_type": "code", 
     "collapsed": false, 
     "input": [
      "import neurogrid as ng", 
      "reload(ng.ensemble)", 
      "", 
      "e = ng.ensemble.Ensemble(16, 16, 1, seed=1)", 
      ""
     ], 
     "language": "python", 
     "outputs": [], 
     "prompt_number": 5
    }
   ]
  }
 ]
}