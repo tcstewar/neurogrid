{
 "metadata": {
  "name": "Neurons"
 }, 
 "nbformat": 2, 
 "worksheets": [
  {
   "cells": [
    {
     "cell_type": "code", 
     "collapsed": false, 
     "input": [
      "import neurogrid as ng", 
      "reload(ng)", 
      "reload(ng.neurons)", 
      "import numpy as np", 
      "", 
      "N = 6", 
      "f_max = 1000", 
      "pts = 50", 
      "", 
      "", 
      "rng = np.random.RandomState()", 
      "n = ng.neurons.RateNeuron(N, rng)", 
      "", 
      "e_in = np.linspace(0, f_max, pts)", 
      "i_in = np.linspace(0, f_max, pts)", 
      "e_in, i_in = np.meshgrid(e_in, i_in)", 
      "e_in = e_in.flatten()", 
      "i_in = i_in.flatten()", 
      "", 
      "r = n.rate(e_in, i_in)", 
      "", 
      "import matplotlib.pyplot as plt", 
      "", 
      "for i in range(N):", 
      "    plt.subplot(2, N/2, i+1)", 
      "    data = r[:,i]", 
      "    data.shape = pts, pts", 
      "    plt.imshow(data, interpolation='none', origin='lower', extent=(0,f_max,0,f_max))", 
      "    "
     ], 
     "language": "python", 
     "outputs": [], 
     "prompt_number": "*"
    }
   ]
  }
 ]
}