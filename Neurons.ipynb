{
 "metadata": {
  "name": "Neurons"
 },
 "nbformat": 3,
 "nbformat_minor": 0,
 "worksheets": [
  {
   "cells": [
    {
     "cell_type": "code",
     "collapsed": false,
     "input": [
      "import neurogrid as ng\n",
      "import numpy as np\n",
      "\n",
      "N = 6\n",
      "f_max = 1000\n",
      "pts = 50\n",
      "\n",
      "rng = np.random.RandomState()\n",
      "n = ng.neurons.RateNeuron(N, rng)\n",
      "\n",
      "# create input space\n",
      "e_in = np.linspace(0, f_max, pts)\n",
      "i_in = np.linspace(0, f_max, pts)\n",
      "e_in, i_in = np.meshgrid(e_in, i_in)\n",
      "e_in = e_in.flatten()\n",
      "i_in = i_in.flatten()\n",
      "\n",
      "e_in = np.array([e_in for i in range(N)])\n",
      "i_in = np.array([i_in for i in range(N)])\n",
      "\n",
      "\n",
      "r = n.rate(e_in, i_in)\n",
      "\n",
      "import matplotlib.pyplot as plt\n",
      "\n",
      "for i in range(N):\n",
      "    plt.subplot(2, N/2, i+1)\n",
      "    data = r[i,:]\n",
      "    data.shape = pts, pts\n",
      "    plt.imshow(data, interpolation='none', origin='lower', extent=(0,f_max,0,f_max))\n",
      "    "
     ],
     "language": "python",
     "metadata": {},
     "outputs": [],
     "prompt_number": 11
    },
    {
     "cell_type": "code",
     "collapsed": false,
     "input": [],
     "language": "python",
     "metadata": {},
     "outputs": []
    }
   ],
   "metadata": {}
  }
 ]
}