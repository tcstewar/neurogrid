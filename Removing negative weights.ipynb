{
 "metadata": {
  "name": "Removing negative weights"
 },
 "nbformat": 3,
 "nbformat_minor": 0,
 "worksheets": [
  {
   "cells": [
    {
     "cell_type": "markdown",
     "metadata": {},
     "source": [
      "<p>This notebook shows how to use the code that we've included for removing negative weights from a network by introducing inhibitory interneurons.</p>\n",
      "<p> We begin by constructing a simple two layer network that computes some function.</p>"
     ]
    },
    {
     "cell_type": "code",
     "collapsed": false,
     "input": [
      "#Construct a simple network with 'normal' connection weights\n",
      "import neurogrid as ng\n",
      "rng = random.RandomState()\n",
      "\n",
      "#Constants\n",
      "N1 = 50 #Number of neurons pop1\n",
      "N2 = 60 #Number of neurons pop2\n",
      "Ni = 12 #N1/4 - Number of inhibitory interneurons\n",
      "\n",
      "#Population 1\n",
      "pop1 = ng.neurons.RateNeuron(N1, rng, balanced=False, nonlinear=10)\n",
      "e1 = ng.encoders.random(N1, 1, rng)\n",
      "X1, A1 = ng.activity.classic(pop1, e1, rng) \n",
      "\n",
      "#Population 2\n",
      "pop2 = ng.neurons.RateNeuron(N2, rng, balanced=False, nonlinear=10)\n",
      "e2 = ng.encoders.random(N2, 1, rng)\n",
      "X2, A2 = ng.activity.classic(pop2, e2, rng) \n",
      "\n",
      "#The function to compute\n",
      "yi = X1**3\n",
      "\n",
      "#Get the pop1 decoders\n",
      "d1 = ng.decoders.classic2(A1, yi, rng, minSV=0)\n",
      "d2 = ng.decoders.classic2(A2, X2, rng, minSV=0) #Always do just representational decoding from pop2\n",
      "\n",
      "#The connection weights\n",
      "weights = outer(e2[:,0],d1) #gain is included in neuron"
     ],
     "language": "python",
     "metadata": {},
     "outputs": [],
     "prompt_number": 74
    },
    {
     "cell_type": "markdown",
     "metadata": {},
     "source": [
      "Let's make sure the network we just constructed is working as expected."
     ]
    },
    {
     "cell_type": "code",
     "collapsed": false,
     "input": [
      "#A demonstration that it's computing the function (no time)\n",
      "inputDomain = linspace(-1,1,yi.shape[0])\n",
      "inputDomain.shape = inputDomain.shape[0],1\n",
      "X, A1 = ng.activity.classic(pop1, e1, rng, X=inputDomain) \n",
      "\n",
      "pop2Current = dot(weights, A1) #compute the input current\n",
      "\n",
      "e_input = where(pop2Current>0,pop2Current*1000,0)\n",
      "i_input=where(pop2Current<0,-pop2Current*1000,0)\n",
      "A2 = pop2.rate(e_input,i_input) #generate the activities for that current\n",
      "\n",
      "Out = dot(A2.T,d2) #decode those activities\n",
      "\n",
      "RMSE = sqrt(mean((yi-Out)**2))\n",
      "#plot stuff\n",
      "figure()\n",
      "plot(inputDomain, Out)\n",
      "axis('tight')\n",
      "disp(RMSE)"
     ],
     "language": "python",
     "metadata": {},
     "outputs": [
      {
       "output_type": "stream",
       "stream": "stdout",
       "text": [
        "0.0741287099515\n"
       ]
      },
      {
       "output_type": "display_data",
       "png": "[encoded data removed]"
      }
     ],
     "prompt_number": 75
    },
    {
     "cell_type": "markdown",
     "metadata": {},
     "source": [
      "Next we take network and convert it into another network that computes the same function, but with all positive-only weights and a population of inhibitory interneurons."
     ]
    },
    {
     "cell_type": "code",
     "collapsed": false,
     "input": [
      "#Begin by assuming we don't know anything much about the function being computed.\n",
      "\n",
      "# First solve decoders phi_i^f\n",
      "# set all decoders to a uniform constant, normalized & scaled:\n",
      "\n",
      "#pick starting uniform decoders\n",
      "decf = ones(N1)\n",
      "\n",
      "# sample decoded space to find max\n",
      "r = arange(-1,1,.05)\n",
      "r.shape = r.shape[0],1\n",
      "Nsamples = r.shape[0]\n",
      "\n",
      "FuncValues = outer(e1,r)\n",
      "X1, A1 = ng.activity.classic(pop1, e1, rng, X=r) \n",
      "\n",
      "# Decode the encoded vectors\n",
      "FuncEst = dot(A1.T,decf)\n",
      "\n",
      "# scale to put decoded values within 1.0 (0.9 for wiggle room)\n",
      "# the 0.85*min lower level accounts for the correction in constant\n",
      "# current yet to be applied\n",
      "minFunc = 0.85 * min(FuncEst) # 0.85 gives wiggle room on lower end\n",
      "decf = decf / (max(FuncEst)- minFunc) * 0.9\n",
      "\n",
      "# recalculate the function estimates now that decf has been rescaled\n",
      "FuncEst = dot(A1.T,decf)\n",
      "minFunc = 0.85 * min(FuncEst)\n",
      "\n",
      "#determine encoders\n",
      "ratios = weights/decf\n",
      "encf = ratios.max(axis=1)\n",
      "\n",
      "#now modify the ensembles and connections\n",
      "jconst = pop2.e_gain * encf * minFunc\n",
      "pop2.bias = pop2.bias-jconst\n",
      "\n",
      "gainPop2 = outer(pop2.e_gain, ones(N1))\n",
      "nonnegWeights = weights + gainPop2*outer(encf,decf)\n",
      "\n",
      "#create the inhibitory population\n",
      "popi = ng.neurons.RateNeuron(Ni, rng, balanced=False, nonlinear=0)  #If we could, intercepts only to -0.1\n",
      "ei = ones([Ni,1]) #On neurons only\n",
      "inputDomain = linspace(0,1,100)\n",
      "inputDomain.shape = inputDomain.shape[0],1\n",
      "X, Ai = ng.activity.classic(popi, ei, rng, X=inputDomain) \n",
      "di = ng.decoders.classic2(Ai, X, rng, minSV=0)\n",
      "\n",
      "popi.bias = popi.bias - popi.e_gain*minFunc\n",
      "\n",
      "#now connect the inhibitory neurons up\n",
      "pop1topopiWeights = outer(popi.e_gain, decf)\n",
      "popitopop2Weights = - outer(pop2.e_gain, ones(Ni)) * outer(encf,di)\n"
     ],
     "language": "python",
     "metadata": {},
     "outputs": [],
     "prompt_number": 76
    },
    {
     "cell_type": "markdown",
     "metadata": {},
     "source": [
      "We can now rerun the network to look at the effects of converting the weights to be all positive.\n"
     ]
    },
    {
     "cell_type": "code",
     "collapsed": false,
     "input": [
      "#Rerun the network. Note that we have to run both the A and inhib populations before B\n",
      "#Injecting excitatory and inhibitory inputs into different synapses on the neurons\n",
      "inputDomain = linspace(-1,1,yi.shape[0])\n",
      "inputDomain.shape = inputDomain.shape[0],1\n",
      "X, A1 = ng.activity.classic(pop1, e1, rng, X=inputDomain) \n",
      "\n",
      "popiCurrent = dot(pop1topopiWeights, A1)\n",
      "Ai = popi.rate(popiCurrent*1000,0)\n",
      "\n",
      "A2 = pop2.rate(dot(nonnegWeights, A1)*1000,-dot(popitopop2Weights, Ai)*1000) #generate the activities for that current\n",
      "\n",
      "Out = dot(A2.T,d2) #decode those activities\n",
      "RMSE = sqrt(mean((yi-Out)**2))\n",
      "\n",
      "#plot stuff\n",
      "figure()\n",
      "plot(inputDomain, Out)\n",
      "axis('tight')\n",
      "disp(RMSE)"
     ],
     "language": "python",
     "metadata": {},
     "outputs": [
      {
       "output_type": "stream",
       "stream": "stdout",
       "text": [
        "0.346154707852\n"
       ]
      },
      {
       "output_type": "display_data",
       "png": "[encoded data removed]"
      }
     ],
     "prompt_number": 77
    },
    {
     "cell_type": "code",
     "collapsed": false,
     "input": [],
     "language": "python",
     "metadata": {},
     "outputs": [
      {
       "output_type": "pyout",
       "prompt_number": 45,
       "text": [
        "(-1.0, 1.0, -0.10552793132400763, 0.87709421067816329)"
       ]
      },
      {
       "output_type": "display_data",
       "png": "[encoded data removed]"
      }
     ],
     "prompt_number": 45
    },
    {
     "cell_type": "code",
     "collapsed": false,
     "input": [],
     "language": "python",
     "metadata": {},
     "outputs": [],
     "prompt_number": 45
    },
    {
     "cell_type": "code",
     "collapsed": false,
     "input": [],
     "language": "python",
     "metadata": {},
     "outputs": []
    }
   ],
   "metadata": {}
  }
 ]
}