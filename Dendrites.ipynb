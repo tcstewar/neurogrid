{
 "metadata": {
  "name": "Dendrites"
 }, 
 "nbformat": 2, 
 "worksheets": [
  {
   "cells": [
    {
     "cell_type": "code", 
     "collapsed": true, 
     "input": [
      "import neurogrid as ng", 
      "reload(ng)", 
      "reload(ng.dendrites)", 
      "k = ng.dendrites.blur_kernel(256, 256, 5)", 
      "", 
      "import matplotlib.pyplot as plt", 
      "plt.figure()", 
      "plt.imshow(k)"
     ], 
     "language": "python", 
     "outputs": []
    }, 
    {
     "cell_type": "code", 
     "collapsed": true, 
     "input": [
      "kk = k.flatten()", 
      "kk.sort()", 
      "kk=list(reversed(kk))", 
      "", 
      "y=[]", 
      "sum=0", 
      "for i,v in enumerate(kk):", 
      "    sum+=v", 
      "    if 240<i<260: print i,sum", 
      "    y.append(sum)", 
      "#plt.figure()    ", 
      "#plt.plot(y)    "
     ], 
     "language": "python", 
     "outputs": []
    }, 
    {
     "cell_type": "code", 
     "collapsed": false, 
     "input": [
      "import neurogrid as ng", 
      "reload(ng.dendrites)", 
      "import scipy.signal", 
      "", 
      "e = ng.ensemble.Ensemble(256, 256, 2, seed=1, encoder_type='swapped')", 
      "k = ng.dendrites.blur_kernel(256, 256, 5)", 
      "", 
      "ng.plot.encoder_flat(enc2, 256, 256)", 
      "", 
      "", 
      "", 
      "enc2 = ng.dendrites.apply(e.encoders, k)"
     ], 
     "language": "python", 
     "outputs": [], 
     "prompt_number": 13
    }, 
    {
     "cell_type": "code", 
     "collapsed": false, 
     "input": [
      "print enc2.shape", 
      "ng.plot.encoder_flat(enc2, 256, 256)", 
      "ng.plot.encoder_2d(enc2)"
     ], 
     "language": "python", 
     "outputs": [
      {
       "output_type": "stream", 
       "stream": "stdout", 
       "text": [
        "(65536, 2)"
       ]
      }
     ], 
     "prompt_number": 12
    }
   ]
  }
 ]
}