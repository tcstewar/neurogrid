{
 "metadata": {
  "name": "Encoders"
 }, 
 "nbformat": 2, 
 "worksheets": [
  {
   "cells": [
    {
     "cell_type": "markdown", 
     "source": [
      "Here is a basic encoder chosen randomly"
     ]
    }, 
    {
     "cell_type": "code", 
     "collapsed": false, 
     "input": [
      "import numpy as np", 
      "import encoders", 
      "", 
      "", 
      "rng = np.random.RandomState()", 
      "e = encoders.random(N=20, D=2, rng=rng)", 
      "", 
      "print e", 
      "", 
      "import matplotlib.pyplot as plt", 
      "plt.plot(e[:,0], e[:,1], 'o', linewidth=0)"
     ], 
     "language": "python", 
     "outputs": [
      {
       "output_type": "stream", 
       "stream": "stdout", 
       "text": [
        "[[-0.96584742 -0.25911147]", 
        " [ 0.99973385 -0.02307031]", 
        " [ 0.80532156 -0.59283825]", 
        " [ 0.96925894 -0.24604288]", 
        " [ 0.74793226 -0.66377506]", 
        " [ 0.11650552  0.99319004]", 
        " [-0.71474148  0.69938874]", 
        " [-0.14922569  0.98880316]", 
        " [ 0.62400606 -0.7814195 ]", 
        " [ 0.96389757  0.2662733 ]", 
        " [ 0.38633676  0.9223578 ]", 
        " [ 0.97981045  0.19992868]", 
        " [-0.13627638  0.99067086]", 
        " [ 0.94621624  0.3235349 ]", 
        " [ 0.84932264  0.52787409]", 
        " [-0.40580068  0.9139616 ]", 
        " [-0.32597799  0.94537736]", 
        " [-0.99989131  0.01474373]", 
        " [-0.46946801  0.88294948]", 
        " [-0.93686683  0.34968634]]"
       ]
      }, 
      {
       "output_type": "pyout", 
       "prompt_number": 5, 
       "text": [
        "[<matplotlib.lines.Line2D at 0x39e4750>]"
       ]
      }
     ], 
     "prompt_number": 5
    }
   ]
  }
 ]
}