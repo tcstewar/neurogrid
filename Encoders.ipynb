{
 "metadata": {
  "name": "Encoders"
 }, 
 "nbformat": 2, 
 "worksheets": [
  {
   "cells": [
    {
     "cell_type": "markdown", 
     "source": [
      "Here is a basic encoder chosen randomly"
     ]
    }, 
    {
     "cell_type": "code", 
     "collapsed": false, 
     "input": [
      "import numpy as np", 
      "import neurogrid as ng", 
      "", 
      "rng = np.random.RandomState()", 
      "e = ng.encoders.random(N=400, D=3, rng=rng)", 
      "", 
      "ng.plot.encoder_3d(e)", 
      "ng.plot.encoder_flat(e, 20, 20)"
     ], 
     "language": "python", 
     "outputs": [], 
     "prompt_number": 5
    }, 
    {
     "cell_type": "markdown", 
     "source": [
      "Now we reorganize by swapping"
     ]
    }, 
    {
     "cell_type": "code", 
     "collapsed": false, 
     "input": [
      "import numpy as np", 
      "import neurogrid as ng", 
      "", 
      "rng = np.random.RandomState()", 
      "e = ng.encoders.swapped(N=400, D=3, rows=10, cols=20, rng=rng, iterations=100)", 
      "", 
      "ng.plot.encoder_3d(e)", 
      "ng.plot.encoder_flat(e, 20, 20)"
     ], 
     "language": "python", 
     "outputs": [], 
     "prompt_number": 8
    }, 
    {
     "cell_type": "markdown", 
     "source": [
      "Now we try a Kohonen map"
     ]
    }, 
    {
     "cell_type": "code", 
     "collapsed": false, 
     "input": [
      "import numpy as np", 
      "import neurogrid as ng", 
      "", 
      "rng = np.random.RandomState()", 
      "e = ng.encoders.kohonen(N=400, D=3, rows=20, cols=20, rng=rng, iterations=100)", 
      "", 
      "ng.plot.encoder_3d(e)", 
      "ng.plot.encoder_flat(e, 20, 20)"
     ], 
     "language": "python", 
     "outputs": [], 
     "prompt_number": 3
    }
   ]
  }
 ]
}