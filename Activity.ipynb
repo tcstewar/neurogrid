{
 "metadata": {
  "name": "Activity"
 }, 
 "nbformat": 2, 
 "worksheets": [
  {
   "cells": [
    {
     "cell_type": "code", 
     "collapsed": false, 
     "input": [
      "import neurogrid as ng", 
      "import numpy as np", 
      "", 
      "rng = np.random.RandomState()", 
      "n = ng.neurons.RateNeuron(20, rng, balanced=True, nonlinear=0)", 
      "e = ng.encoders.random(20, 1, rng)", 
      "    ", 
      "X, A = ng.activity.classic(n, e, rng)", 
      "    ", 
      "import matplotlib.pyplot as plt", 
      "    ", 
      "plt.plot(X[:,0], A.T)"
     ], 
     "language": "python", 
     "outputs": [
      {
       "output_type": "pyout", 
       "prompt_number": 1, 
       "text": [
        "[<matplotlib.lines.Line2D at 0x349c850>,", 
        " <matplotlib.lines.Line2D at 0x349c950>,", 
        " <matplotlib.lines.Line2D at 0x349cad0>,", 
        " <matplotlib.lines.Line2D at 0x349cc50>,", 
        " <matplotlib.lines.Line2D at 0x349cdd0>,", 
        " <matplotlib.lines.Line2D at 0x349cf50>,", 
        " <matplotlib.lines.Line2D at 0x34a0110>,", 
        " <matplotlib.lines.Line2D at 0x30e5050>,", 
        " <matplotlib.lines.Line2D at 0x34a0410>,", 
        " <matplotlib.lines.Line2D at 0x34a0590>,", 
        " <matplotlib.lines.Line2D at 0x34a0710>,", 
        " <matplotlib.lines.Line2D at 0x34a0890>,", 
        " <matplotlib.lines.Line2D at 0x34a0a10>,", 
        " <matplotlib.lines.Line2D at 0x34a0b90>,", 
        " <matplotlib.lines.Line2D at 0x34a0d10>,", 
        " <matplotlib.lines.Line2D at 0x34a0e90>,", 
        " <matplotlib.lines.Line2D at 0x34a1050>,", 
        " <matplotlib.lines.Line2D at 0x34a11d0>,", 
        " <matplotlib.lines.Line2D at 0x34a1350>,", 
        " <matplotlib.lines.Line2D at 0x34a14d0>]"
       ]
      }
     ], 
     "prompt_number": 1
    }
   ]
  }
 ]
}