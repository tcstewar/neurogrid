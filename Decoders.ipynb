{
 "metadata": {
  "name": "Decoders"
 }, 
 "nbformat": 2, 
 "worksheets": [
  {
   "cells": [
    {
     "cell_type": "code", 
     "collapsed": false, 
     "input": [
      "import neurogrid as ng", 
      "import numpy as np", 
      "", 
      "N = 30", 
      "rng = np.random.RandomState()", 
      "n = ng.neurons.RateNeuron(N, rng, balanced=True, nonlinear=0)", 
      "e = ng.encoders.random(N, 1, rng)", 
      "    ", 
      "X, A = ng.activity.classic(n, e, rng)", 
      "    ", 
      "    ", 
      "    ", 
      "d1 = ng.decoders.classic(A, X*X, rng)", 
      "d2 = ng.decoders.lstsq(A, X*X, rng)", 
      "    ", 
      "    ", 
      "Xhat1 = np.dot(A.T, d1)", 
      "Xhat2 = np.dot(A.T, d2)", 
      " ", 
      "import matplotlib.pyplot as plt    ", 
      "plt.plot(X[:,0], Xhat1[:,0], label='classic')", 
      "plt.plot(X[:,0], Xhat2[:,0], label='lstsq')", 
      "plt.legend()"
     ], 
     "language": "python", 
     "outputs": [
      {
       "output_type": "pyout", 
       "prompt_number": 5, 
       "text": [
        "<matplotlib.legend.Legend at 0x4ab9090>"
       ]
      }
     ], 
     "prompt_number": 5
    }
   ]
  }
 ]
}